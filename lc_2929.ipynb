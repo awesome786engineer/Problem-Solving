{
  "cells": [
    {
      "cell_type": "markdown",
      "metadata": {
        "id": "view-in-github",
        "colab_type": "text"
      },
      "source": [
        "<a href=\"https://colab.research.google.com/github/awesome786engineer/Problem-Solving/blob/main/lc_2929.ipynb\" target=\"_parent\"><img src=\"https://colab.research.google.com/assets/colab-badge.svg\" alt=\"Open In Colab\"/></a>"
      ]
    },
    {
      "cell_type": "markdown",
      "id": "f7c9c095",
      "metadata": {
        "id": "f7c9c095"
      },
      "source": [
        "# LEET CODE Problem 2929 #"
      ]
    },
    {
      "cell_type": "markdown",
      "id": "d01002a0",
      "metadata": {
        "id": "d01002a0"
      },
      "source": [
        "You are given two positive integers n and limit.  \n",
        "\n",
        "Return the total number of ways to distribute n candies among 3 children such that no child gets more than limit candies.\n",
        "\n",
        "\n",
        "\n",
        "Example 1:\n",
        "\n",
        "Input: n = 5, limit = 2  \n",
        "Output: 3  \n",
        "Explanation: There are 3 ways to distribute 5 candies such that no child gets more than 2 candies: (1, 2, 2), (2, 1, 2) and (2, 2, 1).  \n",
        "Example 2:  \n",
        "\n",
        "Input: n = 3, limit = 3  \n",
        "Output: 10  \n",
        "Explanation: There are 10 ways to distribute 3 candies such that no child gets more than 3 candies: (0, 0, 3), (0, 1, 2), (0, 2, 1), (0, 3, 0), (1, 0, 2), (1, 1, 1), (1, 2, 0), (2, 0, 1), (2, 1, 0) and (3, 0, 0).  \n",
        "\n",
        "\n",
        "Constraints:\n",
        "\n",
        "1 <= n <= 10^6  \n",
        "1 <= limit <= 10^  \n"
      ]
    },
    {
      "cell_type": "markdown",
      "id": "8f4a9cc2",
      "metadata": {
        "id": "8f4a9cc2"
      },
      "source": [
        "## Brute Force ##\n",
        "\n",
        "- Brute Force Idea:\n",
        "The brute force approach is to enumerate all possible values of\n",
        "𝑎\n",
        ",\n",
        "𝑏\n",
        ",\n",
        "𝑐  \n",
        "a,b,c that satisfy the above two conditions.\n",
        "\n",
        "- Step-by-step Approach:\n",
        "We fix two variables (a and b) and compute the third (c = n - a - b), then check if c is valid:  "
      ]
    },
    {
      "cell_type": "code",
      "execution_count": null,
      "id": "336af128",
      "metadata": {
        "id": "336af128"
      },
      "outputs": [],
      "source": [
        "count = 0\n",
        "for a in range(0, min(limit, n) + 1):\n",
        "    for b in range(0, min(limit, n - a) + 1):\n",
        "        c = n - a - b\n",
        "        if 0 <= c <= limit:\n",
        "            count += 1\n",
        "return count\n"
      ]
    },
    {
      "cell_type": "markdown",
      "id": "9391b163",
      "metadata": {
        "id": "9391b163"
      },
      "source": [
        "## Time Complexity ##\n",
        "Time Complexity:\n",
        "- Worst case:\n",
        "𝑂\n",
        "(\n",
        "limit\n",
        "^\n",
        "2\n",
        ")"
      ]
    },
    {
      "cell_type": "markdown",
      "id": "835fe0f3",
      "metadata": {
        "id": "835fe0f3"
      },
      "source": [
        "# 🏆 Optimized Approach\n",
        "\n",
        "## 💡 Core Idea\n",
        "We’re still solving:\n",
        "$$ A + B + C = n $$\n",
        "with constraints:\n",
        "$$ 0 \\leq A, B, C \\leq limit $$\n",
        "\n",
        "Instead of brute-forcing over two variables (A and B), we **fix B** and compute the number of valid (A, C) pairs that satisfy:\n",
        "$$ A + C = n - B $$\n",
        "\n",
        "## ✅ Strategy\n",
        "1. **Loop over B** from `0` to `min(n, limit)`.\n",
        "2. For each B:\n",
        "   - Set `remaining = n - B`.\n",
        "   - Find valid `(A, C)` pairs satisfying:\n",
        "     $$ A + C = remaining $$\n",
        "     with constraints:\n",
        "     $$ 0 \\leq A, C \\leq limit $$\n",
        "\n",
        "### 🔍 Breaking it Down:\n",
        "For each `remaining`, the number of valid `(A, C)` pairs follows the condition:\n",
        "$$ \\max(0, remaining - limit) \\leq A \\leq \\min(limit, remaining) $$\n",
        "\n",
        "## 🔄 Combining All Conditions\n",
        "Gathering constraints:\n",
        "- $$ A \\geq 0 $$\n",
        "- $$ A \\leq limit $$\n",
        "- $$ A \\leq remaining $$\n",
        "- $$ A \\geq remaining - limit $$\n",
        "\n",
        "### 📌 Final Range for A\n",
        "Combining lower bounds:\n",
        "$$ A \\geq \\max(0, remaining - limit) $$\n",
        "\n",
        "Combining upper bounds:\n",
        "$$ A \\leq \\min(limit, remaining) $$\n",
        "\n",
        "Thus, the valid range for A is:\n",
        "$$ A \\in [\\max(0, remaining - limit), \\min(limit, remaining)] $$\n",
        "\n",
        "✔ This interval satisfies all four constraints **tightly**. 🚀\n"
      ]
    },
    {
      "cell_type": "code",
      "execution_count": null,
      "id": "602bdeb1",
      "metadata": {
        "id": "602bdeb1"
      },
      "outputs": [],
      "source": [
        "def count_distributions(n, limit):\n",
        "    count = 0\n",
        "    for B in range(min(limit, n) + 1):\n",
        "        remaining = n - B\n",
        "        min_A = max(0, remaining - limit)\n",
        "        max_A = min(limit, remaining)\n",
        "        if max_A >= min_A:\n",
        "            count += (max_A - min_A + 1)\n",
        "    return count\n"
      ]
    }
  ],
  "metadata": {
    "language_info": {
      "name": "python"
    },
    "colab": {
      "provenance": [],
      "include_colab_link": true
    }
  },
  "nbformat": 4,
  "nbformat_minor": 5
}